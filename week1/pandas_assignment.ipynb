{
 "cells": [
  {
   "cell_type": "code",
   "execution_count": 28,
   "id": "8f70c3c3-ff89-4d6a-ac4a-81fdd9bd4d06",
   "metadata": {},
   "outputs": [],
   "source": [
    "import pandas as pd\n",
    "import numpy as np"
   ]
  },
  {
   "cell_type": "code",
   "execution_count": 23,
   "id": "e4873ab5-07ee-4290-90a1-13469c913512",
   "metadata": {},
   "outputs": [
    {
     "name": "stdout",
     "output_type": "stream",
     "text": [
      "   Roll numbers     Name Gender  Marks1  Marks2  Marks3\n",
      "0             1   Shweta      F      91      87      94\n",
      "1             2     Roha      F      98      35      77\n",
      "2             3    Naina      F      78      74      60\n",
      "3             4    Vansh      M      65      68      58\n",
      "4             5     Puja      F      45      64      62\n",
      "5             6   Aniket      M      27      80      54\n",
      "6             7    Manik      M      89      59      82\n",
      "7             8   Pranay      M      92      93      64\n",
      "8             9     Pihu      F      72      38      72\n",
      "9            10  Anirudh      M      86      37      91\n"
     ]
    }
   ],
   "source": [
    "data = {\n",
    "    'Roll numbers': [1,2,3,4,5,6,7,8,9,10],\n",
    "    'Name': ['Shweta','Roha','Naina','Vansh','Puja','Aniket','Manik','Pranay','Pihu','Anirudh'],\n",
    "    'Gender': ['F','F','F','M','F','M','M','M','F','M'],\n",
    "    'Marks1': [91,98,78,65,45,27,89,92,72,86],\n",
    "    'Marks2': [87,35,74,68,64,80,59,93,38,37],\n",
    "    'Marks3': [94,77,60,58,62,54,82,64,72,91]\n",
    "}\n",
    "df = pd.DataFrame(data)\n",
    "print(df)\n"
   ]
  },
  {
   "cell_type": "code",
   "execution_count": 20,
   "id": "5801c66d-c4d8-496a-95af-be95223c95ae",
   "metadata": {},
   "outputs": [
    {
     "data": {
      "text/html": [
       "<div>\n",
       "<style scoped>\n",
       "    .dataframe tbody tr th:only-of-type {\n",
       "        vertical-align: middle;\n",
       "    }\n",
       "\n",
       "    .dataframe tbody tr th {\n",
       "        vertical-align: top;\n",
       "    }\n",
       "\n",
       "    .dataframe thead th {\n",
       "        text-align: right;\n",
       "    }\n",
       "</style>\n",
       "<table border=\"1\" class=\"dataframe\">\n",
       "  <thead>\n",
       "    <tr style=\"text-align: right;\">\n",
       "      <th></th>\n",
       "      <th>Roll numbers</th>\n",
       "      <th>Name</th>\n",
       "      <th>Gender</th>\n",
       "      <th>Marks1</th>\n",
       "      <th>Marks2</th>\n",
       "      <th>Marks3</th>\n",
       "      <th>Total</th>\n",
       "    </tr>\n",
       "  </thead>\n",
       "  <tbody>\n",
       "    <tr>\n",
       "      <th>0</th>\n",
       "      <td>1</td>\n",
       "      <td>Shweta</td>\n",
       "      <td>F</td>\n",
       "      <td>91</td>\n",
       "      <td>87</td>\n",
       "      <td>94</td>\n",
       "      <td>272</td>\n",
       "    </tr>\n",
       "    <tr>\n",
       "      <th>1</th>\n",
       "      <td>2</td>\n",
       "      <td>Roha</td>\n",
       "      <td>F</td>\n",
       "      <td>98</td>\n",
       "      <td>55</td>\n",
       "      <td>77</td>\n",
       "      <td>230</td>\n",
       "    </tr>\n",
       "    <tr>\n",
       "      <th>2</th>\n",
       "      <td>3</td>\n",
       "      <td>Naina</td>\n",
       "      <td>F</td>\n",
       "      <td>78</td>\n",
       "      <td>74</td>\n",
       "      <td>60</td>\n",
       "      <td>212</td>\n",
       "    </tr>\n",
       "    <tr>\n",
       "      <th>3</th>\n",
       "      <td>4</td>\n",
       "      <td>Vansh</td>\n",
       "      <td>M</td>\n",
       "      <td>65</td>\n",
       "      <td>68</td>\n",
       "      <td>58</td>\n",
       "      <td>191</td>\n",
       "    </tr>\n",
       "    <tr>\n",
       "      <th>4</th>\n",
       "      <td>5</td>\n",
       "      <td>Puja</td>\n",
       "      <td>F</td>\n",
       "      <td>45</td>\n",
       "      <td>34</td>\n",
       "      <td>62</td>\n",
       "      <td>141</td>\n",
       "    </tr>\n",
       "    <tr>\n",
       "      <th>5</th>\n",
       "      <td>6</td>\n",
       "      <td>Aniket</td>\n",
       "      <td>M</td>\n",
       "      <td>27</td>\n",
       "      <td>80</td>\n",
       "      <td>54</td>\n",
       "      <td>161</td>\n",
       "    </tr>\n",
       "    <tr>\n",
       "      <th>6</th>\n",
       "      <td>7</td>\n",
       "      <td>Manik</td>\n",
       "      <td>M</td>\n",
       "      <td>89</td>\n",
       "      <td>59</td>\n",
       "      <td>82</td>\n",
       "      <td>230</td>\n",
       "    </tr>\n",
       "    <tr>\n",
       "      <th>7</th>\n",
       "      <td>8</td>\n",
       "      <td>Pranay</td>\n",
       "      <td>M</td>\n",
       "      <td>92</td>\n",
       "      <td>93</td>\n",
       "      <td>64</td>\n",
       "      <td>249</td>\n",
       "    </tr>\n",
       "    <tr>\n",
       "      <th>8</th>\n",
       "      <td>9</td>\n",
       "      <td>Pihu</td>\n",
       "      <td>F</td>\n",
       "      <td>72</td>\n",
       "      <td>88</td>\n",
       "      <td>72</td>\n",
       "      <td>232</td>\n",
       "    </tr>\n",
       "    <tr>\n",
       "      <th>9</th>\n",
       "      <td>10</td>\n",
       "      <td>Anirudh</td>\n",
       "      <td>M</td>\n",
       "      <td>86</td>\n",
       "      <td>37</td>\n",
       "      <td>91</td>\n",
       "      <td>214</td>\n",
       "    </tr>\n",
       "  </tbody>\n",
       "</table>\n",
       "</div>"
      ],
      "text/plain": [
       "   Roll numbers     Name Gender  Marks1  Marks2  Marks3  Total\n",
       "0             1   Shweta      F      91      87      94    272\n",
       "1             2     Roha      F      98      55      77    230\n",
       "2             3    Naina      F      78      74      60    212\n",
       "3             4    Vansh      M      65      68      58    191\n",
       "4             5     Puja      F      45      34      62    141\n",
       "5             6   Aniket      M      27      80      54    161\n",
       "6             7    Manik      M      89      59      82    230\n",
       "7             8   Pranay      M      92      93      64    249\n",
       "8             9     Pihu      F      72      88      72    232\n",
       "9            10  Anirudh      M      86      37      91    214"
      ]
     },
     "execution_count": 20,
     "metadata": {},
     "output_type": "execute_result"
    }
   ],
   "source": [
    "df['Total'] = df.iloc[:,3:6].sum(axis=1)\n",
    "df"
   ]
  },
  {
   "cell_type": "code",
   "execution_count": 6,
   "id": "df058b05-6ebe-46c5-90a2-c5dd2e068f41",
   "metadata": {},
   "outputs": [
    {
     "name": "stdout",
     "output_type": "stream",
     "text": [
      "lowest in marks 1 is 45\n"
     ]
    }
   ],
   "source": [
    "low_marks1 = df['Marks1'].min()\n",
    "print(f\"lowest in marks 1 is {low_marks1}\")"
   ]
  },
  {
   "cell_type": "code",
   "execution_count": 7,
   "id": "d446e613-a283-45ad-9156-d4f0c94d6751",
   "metadata": {},
   "outputs": [
    {
     "name": "stdout",
     "output_type": "stream",
     "text": [
      "highest in marks 2 is 94\n"
     ]
    }
   ],
   "source": [
    "high_marks2 = df['Marks2'].max()\n",
    "print(f\"highest in marks 2 is {high_marks2}\")"
   ]
  },
  {
   "cell_type": "code",
   "execution_count": 8,
   "id": "437d1939-66af-4732-8699-7cc8f9ceda71",
   "metadata": {},
   "outputs": [
    {
     "name": "stdout",
     "output_type": "stream",
     "text": [
      "mean of marks 3 is 71.4\n"
     ]
    }
   ],
   "source": [
    "mean_marks3 = df['Marks3'].mean()\n",
    "print(f\"mean of marks 3 is {mean_marks3}\")"
   ]
  },
  {
   "cell_type": "code",
   "execution_count": 9,
   "id": "bc4681ef-1243-45dd-89ee-d71f4135d09e",
   "metadata": {},
   "outputs": [
    {
     "data": {
      "text/html": [
       "<div>\n",
       "<style scoped>\n",
       "    .dataframe tbody tr th:only-of-type {\n",
       "        vertical-align: middle;\n",
       "    }\n",
       "\n",
       "    .dataframe tbody tr th {\n",
       "        vertical-align: top;\n",
       "    }\n",
       "\n",
       "    .dataframe thead th {\n",
       "        text-align: right;\n",
       "    }\n",
       "</style>\n",
       "<table border=\"1\" class=\"dataframe\">\n",
       "  <thead>\n",
       "    <tr style=\"text-align: right;\">\n",
       "      <th></th>\n",
       "      <th>Roll numbers</th>\n",
       "      <th>Name</th>\n",
       "      <th>Gender</th>\n",
       "      <th>Marks1</th>\n",
       "      <th>Marks2</th>\n",
       "      <th>Marks3</th>\n",
       "      <th>Total</th>\n",
       "      <th>Average</th>\n",
       "    </tr>\n",
       "  </thead>\n",
       "  <tbody>\n",
       "    <tr>\n",
       "      <th>0</th>\n",
       "      <td>1</td>\n",
       "      <td>Shweta</td>\n",
       "      <td>F</td>\n",
       "      <td>91</td>\n",
       "      <td>87</td>\n",
       "      <td>94</td>\n",
       "      <td>272</td>\n",
       "      <td>90.666667</td>\n",
       "    </tr>\n",
       "    <tr>\n",
       "      <th>1</th>\n",
       "      <td>2</td>\n",
       "      <td>Roha</td>\n",
       "      <td>F</td>\n",
       "      <td>98</td>\n",
       "      <td>55</td>\n",
       "      <td>77</td>\n",
       "      <td>230</td>\n",
       "      <td>76.666667</td>\n",
       "    </tr>\n",
       "    <tr>\n",
       "      <th>2</th>\n",
       "      <td>3</td>\n",
       "      <td>Naina</td>\n",
       "      <td>F</td>\n",
       "      <td>78</td>\n",
       "      <td>74</td>\n",
       "      <td>60</td>\n",
       "      <td>212</td>\n",
       "      <td>70.666667</td>\n",
       "    </tr>\n",
       "    <tr>\n",
       "      <th>3</th>\n",
       "      <td>4</td>\n",
       "      <td>Vansh</td>\n",
       "      <td>M</td>\n",
       "      <td>65</td>\n",
       "      <td>68</td>\n",
       "      <td>58</td>\n",
       "      <td>191</td>\n",
       "      <td>63.666667</td>\n",
       "    </tr>\n",
       "    <tr>\n",
       "      <th>4</th>\n",
       "      <td>5</td>\n",
       "      <td>Puja</td>\n",
       "      <td>F</td>\n",
       "      <td>45</td>\n",
       "      <td>94</td>\n",
       "      <td>62</td>\n",
       "      <td>201</td>\n",
       "      <td>67.000000</td>\n",
       "    </tr>\n",
       "    <tr>\n",
       "      <th>5</th>\n",
       "      <td>6</td>\n",
       "      <td>Aniket</td>\n",
       "      <td>M</td>\n",
       "      <td>47</td>\n",
       "      <td>80</td>\n",
       "      <td>54</td>\n",
       "      <td>181</td>\n",
       "      <td>60.333333</td>\n",
       "    </tr>\n",
       "    <tr>\n",
       "      <th>6</th>\n",
       "      <td>7</td>\n",
       "      <td>Manik</td>\n",
       "      <td>M</td>\n",
       "      <td>89</td>\n",
       "      <td>59</td>\n",
       "      <td>82</td>\n",
       "      <td>230</td>\n",
       "      <td>76.666667</td>\n",
       "    </tr>\n",
       "    <tr>\n",
       "      <th>7</th>\n",
       "      <td>8</td>\n",
       "      <td>Pranay</td>\n",
       "      <td>M</td>\n",
       "      <td>92</td>\n",
       "      <td>93</td>\n",
       "      <td>64</td>\n",
       "      <td>249</td>\n",
       "      <td>83.000000</td>\n",
       "    </tr>\n",
       "    <tr>\n",
       "      <th>8</th>\n",
       "      <td>9</td>\n",
       "      <td>Pihu</td>\n",
       "      <td>F</td>\n",
       "      <td>72</td>\n",
       "      <td>88</td>\n",
       "      <td>72</td>\n",
       "      <td>232</td>\n",
       "      <td>77.333333</td>\n",
       "    </tr>\n",
       "    <tr>\n",
       "      <th>9</th>\n",
       "      <td>10</td>\n",
       "      <td>Anirudh</td>\n",
       "      <td>M</td>\n",
       "      <td>86</td>\n",
       "      <td>67</td>\n",
       "      <td>91</td>\n",
       "      <td>244</td>\n",
       "      <td>81.333333</td>\n",
       "    </tr>\n",
       "  </tbody>\n",
       "</table>\n",
       "</div>"
      ],
      "text/plain": [
       "   Roll numbers     Name Gender  Marks1  Marks2  Marks3  Total    Average\n",
       "0             1   Shweta      F      91      87      94    272  90.666667\n",
       "1             2     Roha      F      98      55      77    230  76.666667\n",
       "2             3    Naina      F      78      74      60    212  70.666667\n",
       "3             4    Vansh      M      65      68      58    191  63.666667\n",
       "4             5     Puja      F      45      94      62    201  67.000000\n",
       "5             6   Aniket      M      47      80      54    181  60.333333\n",
       "6             7    Manik      M      89      59      82    230  76.666667\n",
       "7             8   Pranay      M      92      93      64    249  83.000000\n",
       "8             9     Pihu      F      72      88      72    232  77.333333\n",
       "9            10  Anirudh      M      86      67      91    244  81.333333"
      ]
     },
     "execution_count": 9,
     "metadata": {},
     "output_type": "execute_result"
    }
   ],
   "source": [
    "df['Average'] = df.iloc[:,3:6].mean(axis=1)\n",
    "df"
   ]
  },
  {
   "cell_type": "code",
   "execution_count": 15,
   "id": "a9a9df4a-1b8a-4d0e-a185-4e456bcf6276",
   "metadata": {},
   "outputs": [
    {
     "name": "stdout",
     "output_type": "stream",
     "text": [
      "student with highest average is Shweta\n"
     ]
    }
   ],
   "source": [
    "max_avg = df['Average'].max()\n",
    "top_student = top_student = df[df['Average'] == max_avg]\n",
    "\n",
    "print(f\"student with highest average is {top_student['Name'].values[0]}\")"
   ]
  },
  {
   "cell_type": "code",
   "execution_count": 25,
   "id": "96bbf86d-aea2-400a-bcf6-25fcc3e3c3b6",
   "metadata": {},
   "outputs": [
    {
     "name": "stdout",
     "output_type": "stream",
     "text": [
      "   Roll numbers     Name Gender  Marks1  Marks2  Marks3\n",
      "1             2     Roha      F      98      35      77\n",
      "8             9     Pihu      F      72      38      72\n",
      "9            10  Anirudh      M      86      37      91\n"
     ]
    }
   ],
   "source": [
    "#\tnew_df = df.loc[(df['Type 1'] == 'Grass') & (df['Type 2'] == 'Poison') & (df['HP']>70)]\n",
    "#print(df)\n",
    "new_df = df.loc[df['Marks2']<40]\n",
    "print(new_df)\n"
   ]
  },
  {
   "cell_type": "code",
   "execution_count": 31,
   "id": "fdbe17c3-9c66-4359-9fcf-c42488515fe9",
   "metadata": {},
   "outputs": [
    {
     "name": "stdout",
     "output_type": "stream",
     "text": [
      "     Roll numbers  Marks1  Marks2  Marks3\n",
      "min          1.00   27.00   35.00   54.00\n",
      "25%          3.25   66.75   43.25   60.50\n",
      "50%          5.50   82.00   66.00   68.00\n",
      "75%          7.75   90.50   78.50   80.75\n",
      "max         10.00   98.00   93.00   94.00\n"
     ]
    }
   ],
   "source": [
    "numeric_columns = df.select_dtypes(include=[np.number]) \n",
    "summary = numeric_columns.describe(percentiles=[0.25, 0.5, 0.75])\n",
    "summary = summary.loc[['min', '25%', '50%', '75%', 'max']]\n",
    "print(summary)"
   ]
  },
  {
   "cell_type": "code",
   "execution_count": null,
   "id": "308cd632-64b7-4b03-b528-53e3370a9ebb",
   "metadata": {},
   "outputs": [],
   "source": []
  }
 ],
 "metadata": {
  "kernelspec": {
   "display_name": "Python 3 (ipykernel)",
   "language": "python",
   "name": "python3"
  },
  "language_info": {
   "codemirror_mode": {
    "name": "ipython",
    "version": 3
   },
   "file_extension": ".py",
   "mimetype": "text/x-python",
   "name": "python",
   "nbconvert_exporter": "python",
   "pygments_lexer": "ipython3",
   "version": "3.11.7"
  }
 },
 "nbformat": 4,
 "nbformat_minor": 5
}
